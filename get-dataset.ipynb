{
  "nbformat": 4,
  "nbformat_minor": 0,
  "metadata": {
    "colab": {
      "name": "dataset_test_(6_11)_(7)_(2) (10).ipynb",
      "provenance": [],
      "collapsed_sections": [],
      "toc_visible": true
    },
    "kernelspec": {
      "name": "python3",
      "display_name": "Python 3"
    },
    "accelerator": "GPU"
  },
  "cells": [
    {
      "cell_type": "code",
      "metadata": {
        "id": "X-Ao8-_IC-xs",
        "colab_type": "code",
        "outputId": "4309713f-2dc6-446d-d2e9-e42ab30eef9e",
        "colab": {
          "base_uri": "https://localhost:8080/",
          "height": 68
        }
      },
      "source": [
        "# https://www.nist.gov/srd/nist-special-database-19\n",
        "!curl -LO https://s3.amazonaws.com/nist-srd/SD19/by_field.zip"
      ],
      "execution_count": 1,
      "outputs": [
        {
          "output_type": "stream",
          "text": [
            "  % Total    % Received % Xferd  Average Speed   Time    Time     Time  Current\n",
            "                                 Dload  Upload   Total   Spent    Left  Speed\n",
            "100  515M  100  515M    0     0  41.5M      0  0:00:12  0:00:12 --:--:-- 73.6M\n"
          ],
          "name": "stdout"
        }
      ]
    },
    {
      "cell_type": "code",
      "metadata": {
        "id": "F-D_7bXkDZhE",
        "colab_type": "code",
        "colab": {}
      },
      "source": [
        "import zipfile\n",
        "with zipfile.ZipFile(\"by_field.zip\",\"r\") as zip_ref:\n",
        "    zip_ref.extractall(\"targetdir\")"
      ],
      "execution_count": 0,
      "outputs": []
    },
    {
      "cell_type": "code",
      "metadata": {
        "id": "S64nImL4Kin7",
        "colab_type": "code",
        "outputId": "c534e083-4c8f-4b9e-95b2-a220ac96baac",
        "colab": {
          "base_uri": "https://localhost:8080/",
          "height": 152
        }
      },
      "source": [
        "# データセット　原型の様子　A について\n",
        "import os\n",
        "\n",
        "dir_number = [0,1,2,3,4,6,7]\n",
        "total_file_count = 0\n",
        "\n",
        "for i in dir_number:\n",
        "  A_dir  = \"/content/targetdir/by_field/hsf_\"+ str(i) + \"/upper/41/\"\n",
        "  file_count = sum([len(files) for r, d, files in os.walk(A_dir)])\n",
        "  print(\"ディレクトリ：\" + A_dir + \"　Aのファイル数：\" + str(file_count))\n",
        "  total_file_count = total_file_count + file_count \n",
        "\n",
        "print(\"Aのファイル数合計：\" + str(total_file_count))"
      ],
      "execution_count": 3,
      "outputs": [
        {
          "output_type": "stream",
          "text": [
            "ディレクトリ：/content/targetdir/by_field/hsf_0/upper/41/　Aのファイル数：385\n",
            "ディレクトリ：/content/targetdir/by_field/hsf_1/upper/41/　Aのファイル数：406\n",
            "ディレクトリ：/content/targetdir/by_field/hsf_2/upper/41/　Aのファイル数：395\n",
            "ディレクトリ：/content/targetdir/by_field/hsf_3/upper/41/　Aのファイル数：463\n",
            "ディレクトリ：/content/targetdir/by_field/hsf_4/upper/41/　Aのファイル数：459\n",
            "ディレクトリ：/content/targetdir/by_field/hsf_6/upper/41/　Aのファイル数：476\n",
            "ディレクトリ：/content/targetdir/by_field/hsf_7/upper/41/　Aのファイル数：449\n",
            "Aのファイル数合計：3033\n"
          ],
          "name": "stdout"
        }
      ]
    },
    {
      "cell_type": "code",
      "metadata": {
        "id": "BS68rmDZEyVJ",
        "colab_type": "code",
        "outputId": "2ec18652-ae5b-4527-ab52-6cc7f857b0a2",
        "colab": {
          "base_uri": "https://localhost:8080/",
          "height": 146
        }
      },
      "source": [
        "from PIL import Image\n",
        "import matplotlib.pyplot as plt\n",
        "import numpy as np\n",
        "%matplotlib inline\n",
        "\n",
        "plt.figure(figsize=(20,10))\n",
        "plt.subplots_adjust(wspace=1)\n",
        "\n",
        "for i in dir_number:\n",
        "  A  = \"/content/targetdir/by_field/hsf_\"+ str(i) + \"/upper/41/41_00000.png\"\n",
        "  img = Image.open(A)\n",
        "  npA = np.asarray(img)\n",
        "  plt.subplot(1,8,i+1)\n",
        "  plt.imshow(npA)"
      ],
      "execution_count": 4,
      "outputs": [
        {
          "output_type": "display_data",
          "data": {
            "image/png": "[encoded data removed]",
            "text/plain": [
              "<Figure size 1440x720 with 7 Axes>"
            ]
          },
          "metadata": {
            "tags": []
          }
        }
      ]
    },
    {
      "cell_type": "code",
      "metadata": {
        "id": "-8sK7dLkNe9D",
        "colab_type": "code",
        "outputId": "76c5c225-81e3-4a4b-8d48-1a7358f23efa",
        "colab": {
          "base_uri": "https://localhost:8080/",
          "height": 101
        }
      },
      "source": [
        "# get image size   Numpy Pillow PyGame\n",
        "from PIL import Image\n",
        "from glob import glob                                                           \n",
        "import cv2 \n",
        "\n",
        "sample_images = glob('/content/targetdir/by_field/hsf_0/upper/41/*.png')\n",
        "\n",
        "for i in sample_images[0:5]:\n",
        "  with Image.open(i) as img:\n",
        "    width, height = img.size\n",
        "    print(\"ファイル名：\" + i + \"　幅：\" + str(width) + \"　高さ：\" + str(height))"
      ],
      "execution_count": 5,
      "outputs": [
        {
          "output_type": "stream",
          "text": [
            "ファイル名：/content/targetdir/by_field/hsf_0/upper/41/41_00164.png　幅：128　高さ：128\n",
            "ファイル名：/content/targetdir/by_field/hsf_0/upper/41/41_00027.png　幅：128　高さ：128\n",
            "ファイル名：/content/targetdir/by_field/hsf_0/upper/41/41_00251.png　幅：128　高さ：128\n",
            "ファイル名：/content/targetdir/by_field/hsf_0/upper/41/41_00144.png　幅：128　高さ：128\n",
            "ファイル名：/content/targetdir/by_field/hsf_0/upper/41/41_00384.png　幅：128　高さ：128\n"
          ],
          "name": "stdout"
        }
      ]
    },
    {
      "cell_type": "code",
      "metadata": {
        "id": "bxCgQZn6QmhE",
        "colab_type": "code",
        "outputId": "333edfeb-0d1c-446b-bbb6-9aef8a286f7b",
        "colab": {
          "base_uri": "https://localhost:8080/",
          "height": 105
        }
      },
      "source": [
        "# all png?\n",
        "\n",
        "# check file type  All .png ?\n",
        "\n",
        "check_pngs = glob('/content/targetdir/by_field/**/upper/**/*.png')\n",
        "print(check_pngs[0:100])\n",
        "print(len(check_pngs))\n",
        "\n",
        "check_pngs_A = glob('/content/targetdir/by_field/**/upper/41/*.png')\n",
        "print(len(check_pngs_A))\n",
        "len(check_pngs_A) == total_file_count"
      ],
      "execution_count": 6,
      "outputs": [
        {
          "output_type": "stream",
          "text": [
            "['/content/targetdir/by_field/hsf_6/upper/47/47_00141.png', '/content/targetdir/by_field/hsf_6/upper/47/47_00420.png', '/content/targetdir/by_field/hsf_6/upper/47/47_00139.png', '/content/targetdir/by_field/hsf_6/upper/47/47_00277.png', '/content/targetdir/by_field/hsf_6/upper/47/47_00025.png', '/content/targetdir/by_field/hsf_6/upper/47/47_00319.png', '/content/targetdir/by_field/hsf_6/upper/47/47_00423.png', '/content/targetdir/by_field/hsf_6/upper/47/47_00192.png', '/content/targetdir/by_field/hsf_6/upper/47/47_00329.png', '/content/targetdir/by_field/hsf_6/upper/47/47_00412.png', '/content/targetdir/by_field/hsf_6/upper/47/47_00389.png', '/content/targetdir/by_field/hsf_6/upper/47/47_00031.png', '/content/targetdir/by_field/hsf_6/upper/47/47_00427.png', '/content/targetdir/by_field/hsf_6/upper/47/47_00159.png', '/content/targetdir/by_field/hsf_6/upper/47/47_00276.png', '/content/targetdir/by_field/hsf_6/upper/47/47_00126.png', '/content/targetdir/by_field/hsf_6/upper/47/47_00352.png', '/content/targetdir/by_field/hsf_6/upper/47/47_00037.png', '/content/targetdir/by_field/hsf_6/upper/47/47_00414.png', '/content/targetdir/by_field/hsf_6/upper/47/47_00393.png', '/content/targetdir/by_field/hsf_6/upper/47/47_00023.png', '/content/targetdir/by_field/hsf_6/upper/47/47_00320.png', '/content/targetdir/by_field/hsf_6/upper/47/47_00338.png', '/content/targetdir/by_field/hsf_6/upper/47/47_00367.png', '/content/targetdir/by_field/hsf_6/upper/47/47_00333.png', '/content/targetdir/by_field/hsf_6/upper/47/47_00302.png', '/content/targetdir/by_field/hsf_6/upper/47/47_00271.png', '/content/targetdir/by_field/hsf_6/upper/47/47_00363.png', '/content/targetdir/by_field/hsf_6/upper/47/47_00294.png', '/content/targetdir/by_field/hsf_6/upper/47/47_00143.png', '/content/targetdir/by_field/hsf_6/upper/47/47_00144.png', '/content/targetdir/by_field/hsf_6/upper/47/47_00306.png', '/content/targetdir/by_field/hsf_6/upper/47/47_00364.png', '/content/targetdir/by_field/hsf_6/upper/47/47_00361.png', '/content/targetdir/by_field/hsf_6/upper/47/47_00065.png', '/content/targetdir/by_field/hsf_6/upper/47/47_00388.png', '/content/targetdir/by_field/hsf_6/upper/47/47_00137.png', '/content/targetdir/by_field/hsf_6/upper/47/47_00317.png', '/content/targetdir/by_field/hsf_6/upper/47/47_00022.png', '/content/targetdir/by_field/hsf_6/upper/47/47_00272.png', '/content/targetdir/by_field/hsf_6/upper/47/47_00300.png', '/content/targetdir/by_field/hsf_6/upper/47/47_00015.png', '/content/targetdir/by_field/hsf_6/upper/47/47_00343.png', '/content/targetdir/by_field/hsf_6/upper/47/47_00380.png', '/content/targetdir/by_field/hsf_6/upper/47/47_00008.png', '/content/targetdir/by_field/hsf_6/upper/47/47_00193.png', '/content/targetdir/by_field/hsf_6/upper/47/47_00009.png', '/content/targetdir/by_field/hsf_6/upper/47/47_00424.png', '/content/targetdir/by_field/hsf_6/upper/47/47_00158.png', '/content/targetdir/by_field/hsf_6/upper/47/47_00371.png', '/content/targetdir/by_field/hsf_6/upper/47/47_00257.png', '/content/targetdir/by_field/hsf_6/upper/47/47_00032.png', '/content/targetdir/by_field/hsf_6/upper/47/47_00125.png', '/content/targetdir/by_field/hsf_6/upper/47/47_00180.png', '/content/targetdir/by_field/hsf_6/upper/47/47_00349.png', '/content/targetdir/by_field/hsf_6/upper/47/47_00345.png', '/content/targetdir/by_field/hsf_6/upper/47/47_00142.png', '/content/targetdir/by_field/hsf_6/upper/47/47_00073.png', '/content/targetdir/by_field/hsf_6/upper/47/47_00112.png', '/content/targetdir/by_field/hsf_6/upper/47/47_00307.png', '/content/targetdir/by_field/hsf_6/upper/47/47_00344.png', '/content/targetdir/by_field/hsf_6/upper/47/47_00004.png', '/content/targetdir/by_field/hsf_6/upper/47/47_00261.png', '/content/targetdir/by_field/hsf_6/upper/47/47_00235.png', '/content/targetdir/by_field/hsf_6/upper/47/47_00215.png', '/content/targetdir/by_field/hsf_6/upper/47/47_00230.png', '/content/targetdir/by_field/hsf_6/upper/47/47_00089.png', '/content/targetdir/by_field/hsf_6/upper/47/47_00258.png', '/content/targetdir/by_field/hsf_6/upper/47/47_00324.png', '/content/targetdir/by_field/hsf_6/upper/47/47_00080.png', '/content/targetdir/by_field/hsf_6/upper/47/47_00097.png', '/content/targetdir/by_field/hsf_6/upper/47/47_00055.png', '/content/targetdir/by_field/hsf_6/upper/47/47_00093.png', '/content/targetdir/by_field/hsf_6/upper/47/47_00386.png', '/content/targetdir/by_field/hsf_6/upper/47/47_00147.png', '/content/targetdir/by_field/hsf_6/upper/47/47_00438.png', '/content/targetdir/by_field/hsf_6/upper/47/47_00130.png', '/content/targetdir/by_field/hsf_6/upper/47/47_00279.png', '/content/targetdir/by_field/hsf_6/upper/47/47_00029.png', '/content/targetdir/by_field/hsf_6/upper/47/47_00129.png', '/content/targetdir/by_field/hsf_6/upper/47/47_00356.png', '/content/targetdir/by_field/hsf_6/upper/47/47_00318.png', '/content/targetdir/by_field/hsf_6/upper/47/47_00017.png', '/content/targetdir/by_field/hsf_6/upper/47/47_00184.png', '/content/targetdir/by_field/hsf_6/upper/47/47_00173.png', '/content/targetdir/by_field/hsf_6/upper/47/47_00366.png', '/content/targetdir/by_field/hsf_6/upper/47/47_00134.png', '/content/targetdir/by_field/hsf_6/upper/47/47_00047.png', '/content/targetdir/by_field/hsf_6/upper/47/47_00172.png', '/content/targetdir/by_field/hsf_6/upper/47/47_00155.png', '/content/targetdir/by_field/hsf_6/upper/47/47_00062.png', '/content/targetdir/by_field/hsf_6/upper/47/47_00310.png', '/content/targetdir/by_field/hsf_6/upper/47/47_00439.png', '/content/targetdir/by_field/hsf_6/upper/47/47_00357.png', '/content/targetdir/by_field/hsf_6/upper/47/47_00437.png', '/content/targetdir/by_field/hsf_6/upper/47/47_00228.png', '/content/targetdir/by_field/hsf_6/upper/47/47_00185.png', '/content/targetdir/by_field/hsf_6/upper/47/47_00160.png', '/content/targetdir/by_field/hsf_6/upper/47/47_00284.png', '/content/targetdir/by_field/hsf_6/upper/47/47_00269.png']\n",
            "81463\n",
            "3033\n"
          ],
          "name": "stdout"
        },
        {
          "output_type": "execute_result",
          "data": {
            "text/plain": [
              "True"
            ]
          },
          "metadata": {
            "tags": []
          },
          "execution_count": 6
        }
      ]
    },
    {
      "cell_type": "code",
      "metadata": {
        "id": "IwBP6m5YRLzZ",
        "colab_type": "code",
        "outputId": "ce10e05c-b8a2-46f8-d969-317460ae8980",
        "colab": {
          "base_uri": "https://localhost:8080/",
          "height": 288
        }
      },
      "source": [
        "#  How to check .png\n",
        "check_png_file = glob('/content/targetdir/by_field/**/upper/**/*.png')\n",
        "\n",
        "print(\".png のファイル形式を確認\")\n",
        "for i in check_png_file[0:5]:\n",
        "  print(\"ファイル名：　\" + i)\n",
        "  print(\".png？　\" + i[-4:-1])\n",
        "  print(\".pn\" in i[-4:-1])"
      ],
      "execution_count": 7,
      "outputs": [
        {
          "output_type": "stream",
          "text": [
            ".png のファイル形式を確認\n",
            "ファイル名：　/content/targetdir/by_field/hsf_6/upper/47/47_00141.png\n",
            ".png？　.pn\n",
            "True\n",
            "ファイル名：　/content/targetdir/by_field/hsf_6/upper/47/47_00420.png\n",
            ".png？　.pn\n",
            "True\n",
            "ファイル名：　/content/targetdir/by_field/hsf_6/upper/47/47_00139.png\n",
            ".png？　.pn\n",
            "True\n",
            "ファイル名：　/content/targetdir/by_field/hsf_6/upper/47/47_00277.png\n",
            ".png？　.pn\n",
            "True\n",
            "ファイル名：　/content/targetdir/by_field/hsf_6/upper/47/47_00025.png\n",
            ".png？　.pn\n",
            "True\n"
          ],
          "name": "stdout"
        }
      ]
    },
    {
      "cell_type": "code",
      "metadata": {
        "id": "GKgFOy8dTaio",
        "colab_type": "code",
        "outputId": "2ab11040-487e-4e79-db50-9fa89b1bcda0",
        "colab": {
          "base_uri": "https://localhost:8080/",
          "height": 186
        }
      },
      "source": [
        "for i in check_png_file[0:5]:\n",
        "  boolean = \".pn\" in i[-4:-1]\n",
        "  print(\"ファイル名： \" + i)\n",
        "  if boolean:\n",
        "    print(\".png有\")\n",
        "  else:\n",
        "    print(\".png以外あり\")"
      ],
      "execution_count": 8,
      "outputs": [
        {
          "output_type": "stream",
          "text": [
            "ファイル名： /content/targetdir/by_field/hsf_6/upper/47/47_00141.png\n",
            ".png有\n",
            "ファイル名： /content/targetdir/by_field/hsf_6/upper/47/47_00420.png\n",
            ".png有\n",
            "ファイル名： /content/targetdir/by_field/hsf_6/upper/47/47_00139.png\n",
            ".png有\n",
            "ファイル名： /content/targetdir/by_field/hsf_6/upper/47/47_00277.png\n",
            ".png有\n",
            "ファイル名： /content/targetdir/by_field/hsf_6/upper/47/47_00025.png\n",
            ".png有\n"
          ],
          "name": "stdout"
        }
      ]
    },
    {
      "cell_type": "code",
      "metadata": {
        "id": "6iRdbNTVZECV",
        "colab_type": "code",
        "outputId": "116bba14-39b3-45cf-efac-12d6f57e16b7",
        "colab": {
          "base_uri": "https://localhost:8080/",
          "height": 85
        }
      },
      "source": [
        "loop_ok = False\n",
        "check_png_total = 0\n",
        "\n",
        "for i in check_png_file:\n",
        "  if loop_ok:\n",
        "    pass\n",
        "  else:\n",
        "    print(\".png check Loop Start!\")\n",
        "    loop_ok = True\n",
        "    \n",
        "  boolean = \".pn\" in i[-4:-1]\n",
        "  if boolean:\n",
        "    check_png_total = check_png_total + 1\n",
        "  else:\n",
        "    print(\"★ .png 以外有り\")\n",
        "    \n",
        "print(\"ファイルチェック対象数： \" + str(len(check_png_file)))\n",
        "print(\"ファイルチェック数： \" + str(check_png_total))\n",
        "check_png_total == len(check_pngs)"
      ],
      "execution_count": 9,
      "outputs": [
        {
          "output_type": "stream",
          "text": [
            ".png check Loop Start!\n",
            "ファイルチェック対象数： 81463\n",
            "ファイルチェック数： 81463\n"
          ],
          "name": "stdout"
        },
        {
          "output_type": "execute_result",
          "data": {
            "text/plain": [
              "True"
            ]
          },
          "metadata": {
            "tags": []
          },
          "execution_count": 9
        }
      ]
    },
    {
      "cell_type": "markdown",
      "metadata": {
        "id": "5yaVg_5IZ8D3",
        "colab_type": "text"
      },
      "source": [
        "全部 .png\n",
        "\n",
        "次はディレクトリの整理"
      ]
    },
    {
      "cell_type": "code",
      "metadata": {
        "id": "1ClqfnVbZA9T",
        "colab_type": "code",
        "colab": {}
      },
      "source": [
        "import shutil\n",
        "\n",
        "for i in dir_number:\n",
        "  data = \"/content/targetdir/by_field/hsf_\"+ str(i) + \"/upper/\"  #コピー元\n",
        "  dst=\"DATA/\"+str(i) #コピー先\n",
        "  shutil.copytree(src=data, dst=dst)"
      ],
      "execution_count": 0,
      "outputs": []
    },
    {
      "cell_type": "code",
      "metadata": {
        "id": "T96oh1U5aOLh",
        "colab_type": "code",
        "outputId": "fe6f16b6-53c8-4c8c-d7fc-36e54fe5d2ec",
        "colab": {
          "base_uri": "https://localhost:8080/",
          "height": 68
        }
      },
      "source": [
        "!ls DATA/\n",
        "\n",
        "check_count_files = glob('/content/DATA/**/**/*.png')\n",
        "print(len(check_count_files))\n",
        "len(check_count_files) == len(check_pngs)"
      ],
      "execution_count": 11,
      "outputs": [
        {
          "output_type": "stream",
          "text": [
            "0  1  2  3  4  6  7\n",
            "81463\n"
          ],
          "name": "stdout"
        },
        {
          "output_type": "execute_result",
          "data": {
            "text/plain": [
              "True"
            ]
          },
          "metadata": {
            "tags": []
          },
          "execution_count": 11
        }
      ]
    },
    {
      "cell_type": "markdown",
      "metadata": {
        "id": "sk3IPF9ZbRx6",
        "colab_type": "text"
      },
      "source": [
        "#### データ移動できたので元データ削除"
      ]
    },
    {
      "cell_type": "code",
      "metadata": {
        "id": "AxaV_iyycscf",
        "colab_type": "code",
        "outputId": "3faefd87-0bb0-4500-c755-e5e43eb0fb98",
        "colab": {
          "base_uri": "https://localhost:8080/",
          "height": 34
        }
      },
      "source": [
        "%rm -r sample_data targetdir by_field.zip\n",
        "!ls"
      ],
      "execution_count": 12,
      "outputs": [
        {
          "output_type": "stream",
          "text": [
            "DATA\n"
          ],
          "name": "stdout"
        }
      ]
    },
    {
      "cell_type": "markdown",
      "metadata": {
        "id": "WP2wGxyJdKEV",
        "colab_type": "text"
      },
      "source": [
        "#### 次はフォルダ整理（A-Zシンプルに）\n",
        "\n",
        "現状\n",
        "\n",
        "A\n",
        "\n",
        "+ DATA/0/41\n",
        "+ DATA/1/41\n",
        "\n",
        "B\n",
        "\n",
        "+ DATA/0/42\n",
        "+ DATA/1/42\n",
        "\n",
        "J\n",
        "\n",
        "+ DATA/0/4a\n",
        "+ DATA/1/4a\n",
        "\n",
        "<hr>\n",
        "\n",
        "A\n",
        "\n",
        "+ DATA/A にまとめる\n",
        "+ DATA/B にまとめる\n"
      ]
    },
    {
      "cell_type": "markdown",
      "metadata": {
        "id": "GfarKKBWb5zG",
        "colab_type": "text"
      },
      "source": [
        "#### 作戦\n",
        "現状の DATA/△/〇〇 内にある .png を DATA/A に移動。\n",
        "2重Loop\n",
        "```\n",
        "for first_dir in △:\n",
        "  for second_dir in 〇〇:\n",
        "    DATA/A に .png をコピペ\n",
        "```\n",
        "\n",
        "ところで DATA/△/〇〇 の 丸々は"
      ]
    },
    {
      "cell_type": "code",
      "metadata": {
        "id": "G2vgcA6DlsVW",
        "colab_type": "code",
        "outputId": "0317ebf3-5c92-4a14-dfc6-833f16d10231",
        "colab": {
          "base_uri": "https://localhost:8080/",
          "height": 172
        }
      },
      "source": [
        "first_dir = glob(\"DATA/*\")\n",
        "print(first_dir)\n",
        "\n",
        "for first_loop in first_dir:\n",
        "  second_dir = glob(first_loop + \"/*/\")\n",
        "  print(second_dir)"
      ],
      "execution_count": 13,
      "outputs": [
        {
          "output_type": "stream",
          "text": [
            "['DATA/3', 'DATA/2', 'DATA/1', 'DATA/0', 'DATA/6', 'DATA/4', 'DATA/7']\n",
            "['DATA/3/47/', 'DATA/3/53/', 'DATA/3/51/', 'DATA/3/55/', 'DATA/3/58/', 'DATA/3/54/', 'DATA/3/4e/', 'DATA/3/50/', 'DATA/3/44/', 'DATA/3/4d/', 'DATA/3/4b/', 'DATA/3/4c/', 'DATA/3/4a/', 'DATA/3/45/', 'DATA/3/42/', 'DATA/3/59/', 'DATA/3/52/', 'DATA/3/57/', 'DATA/3/43/', 'DATA/3/56/', 'DATA/3/41/', 'DATA/3/46/', 'DATA/3/49/', 'DATA/3/48/', 'DATA/3/5a/', 'DATA/3/4f/']\n",
            "['DATA/2/47/', 'DATA/2/53/', 'DATA/2/51/', 'DATA/2/55/', 'DATA/2/58/', 'DATA/2/54/', 'DATA/2/4e/', 'DATA/2/50/', 'DATA/2/44/', 'DATA/2/4d/', 'DATA/2/4b/', 'DATA/2/4c/', 'DATA/2/4a/', 'DATA/2/45/', 'DATA/2/42/', 'DATA/2/59/', 'DATA/2/52/', 'DATA/2/57/', 'DATA/2/43/', 'DATA/2/56/', 'DATA/2/41/', 'DATA/2/46/', 'DATA/2/49/', 'DATA/2/48/', 'DATA/2/5a/', 'DATA/2/4f/']\n",
            "['DATA/1/47/', 'DATA/1/53/', 'DATA/1/51/', 'DATA/1/55/', 'DATA/1/58/', 'DATA/1/54/', 'DATA/1/4e/', 'DATA/1/50/', 'DATA/1/44/', 'DATA/1/4d/', 'DATA/1/4b/', 'DATA/1/4c/', 'DATA/1/4a/', 'DATA/1/45/', 'DATA/1/42/', 'DATA/1/59/', 'DATA/1/52/', 'DATA/1/57/', 'DATA/1/43/', 'DATA/1/56/', 'DATA/1/41/', 'DATA/1/46/', 'DATA/1/49/', 'DATA/1/48/', 'DATA/1/5a/', 'DATA/1/4f/']\n",
            "['DATA/0/47/', 'DATA/0/53/', 'DATA/0/51/', 'DATA/0/55/', 'DATA/0/58/', 'DATA/0/54/', 'DATA/0/4e/', 'DATA/0/50/', 'DATA/0/44/', 'DATA/0/4d/', 'DATA/0/4b/', 'DATA/0/4c/', 'DATA/0/4a/', 'DATA/0/45/', 'DATA/0/42/', 'DATA/0/59/', 'DATA/0/52/', 'DATA/0/57/', 'DATA/0/43/', 'DATA/0/56/', 'DATA/0/41/', 'DATA/0/46/', 'DATA/0/49/', 'DATA/0/48/', 'DATA/0/5a/', 'DATA/0/4f/']\n",
            "['DATA/6/47/', 'DATA/6/53/', 'DATA/6/51/', 'DATA/6/55/', 'DATA/6/58/', 'DATA/6/54/', 'DATA/6/4e/', 'DATA/6/50/', 'DATA/6/44/', 'DATA/6/4d/', 'DATA/6/4b/', 'DATA/6/4c/', 'DATA/6/4a/', 'DATA/6/45/', 'DATA/6/42/', 'DATA/6/59/', 'DATA/6/52/', 'DATA/6/57/', 'DATA/6/43/', 'DATA/6/56/', 'DATA/6/41/', 'DATA/6/46/', 'DATA/6/49/', 'DATA/6/48/', 'DATA/6/5a/', 'DATA/6/4f/']\n",
            "['DATA/4/47/', 'DATA/4/53/', 'DATA/4/51/', 'DATA/4/55/', 'DATA/4/58/', 'DATA/4/54/', 'DATA/4/4e/', 'DATA/4/50/', 'DATA/4/44/', 'DATA/4/4d/', 'DATA/4/4b/', 'DATA/4/4c/', 'DATA/4/4a/', 'DATA/4/45/', 'DATA/4/42/', 'DATA/4/59/', 'DATA/4/52/', 'DATA/4/57/', 'DATA/4/43/', 'DATA/4/56/', 'DATA/4/41/', 'DATA/4/46/', 'DATA/4/49/', 'DATA/4/48/', 'DATA/4/5a/', 'DATA/4/4f/']\n",
            "['DATA/7/47/', 'DATA/7/53/', 'DATA/7/51/', 'DATA/7/55/', 'DATA/7/58/', 'DATA/7/54/', 'DATA/7/4e/', 'DATA/7/50/', 'DATA/7/44/', 'DATA/7/4d/', 'DATA/7/4b/', 'DATA/7/4c/', 'DATA/7/4a/', 'DATA/7/45/', 'DATA/7/42/', 'DATA/7/59/', 'DATA/7/52/', 'DATA/7/57/', 'DATA/7/43/', 'DATA/7/56/', 'DATA/7/41/', 'DATA/7/46/', 'DATA/7/49/', 'DATA/7/48/', 'DATA/7/5a/', 'DATA/7/4f/']\n"
          ],
          "name": "stdout"
        }
      ]
    },
    {
      "cell_type": "markdown",
      "metadata": {
        "id": "MwwBfiZ2lu7E",
        "colab_type": "text"
      },
      "source": [
        "取得するディレクトリ情報、並び順はバラバラ\n",
        "ABC 順番コピーするようにディレクトリを順番通りに読み込む必要が..."
      ]
    },
    {
      "cell_type": "code",
      "metadata": {
        "id": "l5ohhx9_mDgz",
        "colab_type": "code",
        "outputId": "0a07698d-b110-49b9-8538-48ca71e51f94",
        "colab": {
          "base_uri": "https://localhost:8080/",
          "height": 172
        }
      },
      "source": [
        "first_dir = glob(\"DATA/*\")\n",
        "first_dir = sorted(first_dir)\n",
        "print(first_dir)\n",
        "\n",
        "for first_loop in first_dir:\n",
        "  second_dir = glob(first_loop + \"/*/\")\n",
        "  second_dir = sorted(second_dir)\n",
        "  print(second_dir)"
      ],
      "execution_count": 14,
      "outputs": [
        {
          "output_type": "stream",
          "text": [
            "['DATA/0', 'DATA/1', 'DATA/2', 'DATA/3', 'DATA/4', 'DATA/6', 'DATA/7']\n",
            "['DATA/0/41/', 'DATA/0/42/', 'DATA/0/43/', 'DATA/0/44/', 'DATA/0/45/', 'DATA/0/46/', 'DATA/0/47/', 'DATA/0/48/', 'DATA/0/49/', 'DATA/0/4a/', 'DATA/0/4b/', 'DATA/0/4c/', 'DATA/0/4d/', 'DATA/0/4e/', 'DATA/0/4f/', 'DATA/0/50/', 'DATA/0/51/', 'DATA/0/52/', 'DATA/0/53/', 'DATA/0/54/', 'DATA/0/55/', 'DATA/0/56/', 'DATA/0/57/', 'DATA/0/58/', 'DATA/0/59/', 'DATA/0/5a/']\n",
            "['DATA/1/41/', 'DATA/1/42/', 'DATA/1/43/', 'DATA/1/44/', 'DATA/1/45/', 'DATA/1/46/', 'DATA/1/47/', 'DATA/1/48/', 'DATA/1/49/', 'DATA/1/4a/', 'DATA/1/4b/', 'DATA/1/4c/', 'DATA/1/4d/', 'DATA/1/4e/', 'DATA/1/4f/', 'DATA/1/50/', 'DATA/1/51/', 'DATA/1/52/', 'DATA/1/53/', 'DATA/1/54/', 'DATA/1/55/', 'DATA/1/56/', 'DATA/1/57/', 'DATA/1/58/', 'DATA/1/59/', 'DATA/1/5a/']\n",
            "['DATA/2/41/', 'DATA/2/42/', 'DATA/2/43/', 'DATA/2/44/', 'DATA/2/45/', 'DATA/2/46/', 'DATA/2/47/', 'DATA/2/48/', 'DATA/2/49/', 'DATA/2/4a/', 'DATA/2/4b/', 'DATA/2/4c/', 'DATA/2/4d/', 'DATA/2/4e/', 'DATA/2/4f/', 'DATA/2/50/', 'DATA/2/51/', 'DATA/2/52/', 'DATA/2/53/', 'DATA/2/54/', 'DATA/2/55/', 'DATA/2/56/', 'DATA/2/57/', 'DATA/2/58/', 'DATA/2/59/', 'DATA/2/5a/']\n",
            "['DATA/3/41/', 'DATA/3/42/', 'DATA/3/43/', 'DATA/3/44/', 'DATA/3/45/', 'DATA/3/46/', 'DATA/3/47/', 'DATA/3/48/', 'DATA/3/49/', 'DATA/3/4a/', 'DATA/3/4b/', 'DATA/3/4c/', 'DATA/3/4d/', 'DATA/3/4e/', 'DATA/3/4f/', 'DATA/3/50/', 'DATA/3/51/', 'DATA/3/52/', 'DATA/3/53/', 'DATA/3/54/', 'DATA/3/55/', 'DATA/3/56/', 'DATA/3/57/', 'DATA/3/58/', 'DATA/3/59/', 'DATA/3/5a/']\n",
            "['DATA/4/41/', 'DATA/4/42/', 'DATA/4/43/', 'DATA/4/44/', 'DATA/4/45/', 'DATA/4/46/', 'DATA/4/47/', 'DATA/4/48/', 'DATA/4/49/', 'DATA/4/4a/', 'DATA/4/4b/', 'DATA/4/4c/', 'DATA/4/4d/', 'DATA/4/4e/', 'DATA/4/4f/', 'DATA/4/50/', 'DATA/4/51/', 'DATA/4/52/', 'DATA/4/53/', 'DATA/4/54/', 'DATA/4/55/', 'DATA/4/56/', 'DATA/4/57/', 'DATA/4/58/', 'DATA/4/59/', 'DATA/4/5a/']\n",
            "['DATA/6/41/', 'DATA/6/42/', 'DATA/6/43/', 'DATA/6/44/', 'DATA/6/45/', 'DATA/6/46/', 'DATA/6/47/', 'DATA/6/48/', 'DATA/6/49/', 'DATA/6/4a/', 'DATA/6/4b/', 'DATA/6/4c/', 'DATA/6/4d/', 'DATA/6/4e/', 'DATA/6/4f/', 'DATA/6/50/', 'DATA/6/51/', 'DATA/6/52/', 'DATA/6/53/', 'DATA/6/54/', 'DATA/6/55/', 'DATA/6/56/', 'DATA/6/57/', 'DATA/6/58/', 'DATA/6/59/', 'DATA/6/5a/']\n",
            "['DATA/7/41/', 'DATA/7/42/', 'DATA/7/43/', 'DATA/7/44/', 'DATA/7/45/', 'DATA/7/46/', 'DATA/7/47/', 'DATA/7/48/', 'DATA/7/49/', 'DATA/7/4a/', 'DATA/7/4b/', 'DATA/7/4c/', 'DATA/7/4d/', 'DATA/7/4e/', 'DATA/7/4f/', 'DATA/7/50/', 'DATA/7/51/', 'DATA/7/52/', 'DATA/7/53/', 'DATA/7/54/', 'DATA/7/55/', 'DATA/7/56/', 'DATA/7/57/', 'DATA/7/58/', 'DATA/7/59/', 'DATA/7/5a/']\n"
          ],
          "name": "stdout"
        }
      ]
    },
    {
      "cell_type": "markdown",
      "metadata": {
        "id": "C1x_85Vpm09r",
        "colab_type": "text"
      },
      "source": [
        "準備OK　コピペ開始\n",
        "\n",
        "貼り付け先の A-Z ディレクトリ作成"
      ]
    },
    {
      "cell_type": "code",
      "metadata": {
        "id": "njIp2KFYo173",
        "colab_type": "code",
        "outputId": "8eb1f48f-b083-4cba-9e25-c68fa74ec686",
        "colab": {
          "base_uri": "https://localhost:8080/",
          "height": 51
        }
      },
      "source": [
        "print(chr(ord(\"A\")))\n",
        "print(chr(ord(\"A\") + 1))"
      ],
      "execution_count": 15,
      "outputs": [
        {
          "output_type": "stream",
          "text": [
            "A\n",
            "B\n"
          ],
          "name": "stdout"
        }
      ]
    },
    {
      "cell_type": "code",
      "metadata": {
        "id": "f-9oEiqLqXgQ",
        "colab_type": "code",
        "outputId": "5e2a26f2-82ce-438e-ad08-1fa29a920f4a",
        "colab": {
          "base_uri": "https://localhost:8080/",
          "height": 51
        }
      },
      "source": [
        "new_dir_list = [] \n",
        "print(new_dir_list)\n",
        "\n",
        "new_dir_list_name = 'A'\n",
        "for i in range(0, 26): \n",
        "    new_dir_list.append(new_dir_list_name) \n",
        "    new_dir_list_name = chr(ord(new_dir_list_name) + 1)\n",
        "    \n",
        "print(new_dir_list)"
      ],
      "execution_count": 16,
      "outputs": [
        {
          "output_type": "stream",
          "text": [
            "[]\n",
            "['A', 'B', 'C', 'D', 'E', 'F', 'G', 'H', 'I', 'J', 'K', 'L', 'M', 'N', 'O', 'P', 'Q', 'R', 'S', 'T', 'U', 'V', 'W', 'X', 'Y', 'Z']\n"
          ],
          "name": "stdout"
        }
      ]
    },
    {
      "cell_type": "code",
      "metadata": {
        "id": "XcT_dEoxrmBw",
        "colab_type": "code",
        "colab": {}
      },
      "source": [
        "for d in new_dir_list:\n",
        "  os.mkdir(\"DATA/\" + d)"
      ],
      "execution_count": 0,
      "outputs": []
    },
    {
      "cell_type": "markdown",
      "metadata": {
        "id": "IDteLtdDsUJB",
        "colab_type": "text"
      },
      "source": [
        "貼り付け先の A-Z ディレクトリ完成した\n",
        "\n",
        "次は A-Z に .png をコピペ"
      ]
    },
    {
      "cell_type": "markdown",
      "metadata": {
        "id": "FexD1nw404c5",
        "colab_type": "text"
      },
      "source": [
        "と、その前に　DATA/0/41/以下　と DATA/1/41/以下　ファイル名一緒\n",
        "\n",
        "+ DATA/0/41/以下 は、内容 A\n",
        "+ DATA/1/41/以下 も　内容 A\n",
        "+ DATA/2/41/以下 も　内容 A\n",
        "\n",
        "つまりファイルが DATA/A で重複し、実際のデータ数より少なくなる\n",
        "\n",
        "今回は事前にファイル名を「名前変更」して処理"
      ]
    },
    {
      "cell_type": "code",
      "metadata": {
        "id": "oloUkd-xYwNW",
        "colab_type": "code",
        "colab": {}
      },
      "source": [
        "# ReName\n",
        "i = 0\n",
        "\n",
        "dir_number = sorted(dir_number)\n",
        "\n",
        "for loop1 in dir_number: # 1, 2, 3, 4 ・・・\n",
        "  first_dir = glob(\"DATA/\" + str(loop1) + \"/*/\") # ['DATA/0/47/', 'DATA/0/53/', 'DATA/0/51/'\n",
        "  first_dir = sorted(first_dir)\n",
        "\n",
        "  for loop2 in first_dir:\n",
        "    copy_files = glob(str(loop2) + '*.png') #['DATA/0/41/41_00164.png', 'DATA/0/41/41_00027.png'\n",
        "    \n",
        "    for s in copy_files:\n",
        "      #print(s)\n",
        "      renames = s[:-4] #.png をカット\n",
        "      renames = renames + \"_\" + str(i) + \".png\"\n",
        "      #print(renames)\n",
        "      os.rename(s, renames)\n",
        "      #print(s)\n",
        "  \n",
        "  i = i+1"
      ],
      "execution_count": 0,
      "outputs": []
    },
    {
      "cell_type": "markdown",
      "metadata": {
        "id": "3J_Rf6ChjE9o",
        "colab_type": "text"
      },
      "source": [
        "全 .png ファイル名がオリジナルなものになったので、 A は DATA/A 、 B は DATA/B に集約"
      ]
    },
    {
      "cell_type": "code",
      "metadata": {
        "id": "NR9dNY2zqeIE",
        "colab_type": "code",
        "colab": {}
      },
      "source": [
        "p = 0\n",
        "m = 0\n",
        "n = 0\n",
        "\n",
        "dir_number = sorted(dir_number)\n",
        "\n",
        "# ディレクトリ A-Z 順番に A, B, C 貼り付けれるように\n",
        "for loop1 in dir_number: #dir_number = [0,1,2,3,4,6,7]  \n",
        "  print(\"**********************************************************\")\n",
        "  first_dir = glob(\"DATA/\" + str(loop1) + \"/*/\")\n",
        "  first_dir = sorted(first_dir)\n",
        "  loop1_times = n+1\n",
        "  #print(first_dir) # ['DATA/0/41/', 'DATA/0/42/', \n",
        "\n",
        "  for loop2 in first_dir:\n",
        "    print(\"---------------------------------------------------------------\")\n",
        "    loop2_times = n+1\n",
        "    copy_files = glob(str(loop2) + '*.png')\n",
        "    #print(\"コピペするファイル数：　\" + str(len(copy_files)))\n",
        "    p = p + len(copy_files) #カウンター用 対象ファイル数\n",
        "    paste = \"DATA/\" + new_dir_list[n] # 貼り付け先 A, B, C...\n",
        "\n",
        "    for s in copy_files:\n",
        "      loop3_times = n+1+m\n",
        "      print(\"★★  \" + str(loop1_times) + \"-\" + str(loop2_times) + \"-\" + str(loop3_times))\n",
        "      print(\"保存先：\" + paste )\n",
        "      \n",
        "      shutil.copy2( s , paste)\n",
        "      print(s)\n",
        "      m = m + 1 #カウンター用 コピペした回数\n",
        "\n",
        "    print(\"copy_files OK\\n\")\n",
        "    n = n + 1\n",
        "\n",
        "  print(\"★★for文： loop2 終了★★\")\n",
        "  n = 0\n",
        "\n",
        "\n",
        "print(\"コピペしたファイル数：　\" + str(p))\n",
        "print(\"コピペした回数：　\" + str(m))\n",
        "int(p)==len(check_pngs)\n",
        "m==p==len(check_pngs)\n"
      ],
      "execution_count": 0,
      "outputs": []
    },
    {
      "cell_type": "markdown",
      "metadata": {
        "id": "Rj2ExSNt4G4n",
        "colab_type": "text"
      },
      "source": [
        "うまくいった？\n",
        "\n",
        "A-Z のファイル数を改めて確認\n"
      ]
    },
    {
      "cell_type": "code",
      "metadata": {
        "id": "3iSnnnAc4GXj",
        "colab_type": "code",
        "colab": {
          "base_uri": "https://localhost:8080/",
          "height": 474
        },
        "outputId": "7589c225-b6fd-4cbe-ea8e-ccdeeae83ae6"
      },
      "source": [
        "oktotal_file_count = 0\n",
        "\n",
        "for i in new_dir_list:\n",
        "  ok_dir  = \"DATA/\" + i +\"/\"\n",
        "  #print(i)\n",
        "  file_count = sum([len(files) for r, d, files in os.walk(ok_dir)])\n",
        "  print(\"ディレクトリ：\" + ok_dir + \"　ファイル数：\" + str(file_count))\n",
        "  oktotal_file_count = oktotal_file_count + file_count \n",
        "\n",
        "print(\"DATA内の合計ファイル数：\" + str(oktotal_file_count))"
      ],
      "execution_count": 24,
      "outputs": [
        {
          "output_type": "stream",
          "text": [
            "ディレクトリ：DATA/A/　ファイル数：3033\n",
            "ディレクトリ：DATA/B/　ファイル数：3026\n",
            "ディレクトリ：DATA/C/　ファイル数：3344\n",
            "ディレクトリ：DATA/D/　ファイル数：3020\n",
            "ディレクトリ：DATA/E/　ファイル数：2892\n",
            "ディレクトリ：DATA/F/　ファイル数：3053\n",
            "ディレクトリ：DATA/G/　ファイル数：2964\n",
            "ディレクトリ：DATA/H/　ファイル数：2925\n",
            "ディレクトリ：DATA/I/　ファイル数：4490\n",
            "ディレクトリ：DATA/J/　ファイル数：2958\n",
            "ディレクトリ：DATA/K/　ファイル数：2850\n",
            "ディレクトリ：DATA/L/　ファイル数：3375\n",
            "ディレクトリ：DATA/M/　ファイル数：3077\n",
            "ディレクトリ：DATA/N/　ファイル数：3128\n",
            "ディレクトリ：DATA/O/　ファイル数：3176\n",
            "ディレクトリ：DATA/P/　ファイル数：3127\n",
            "ディレクトリ：DATA/Q/　ファイル数：3018\n",
            "ディレクトリ：DATA/R/　ファイル数：3061\n",
            "ディレクトリ：DATA/S/　ファイル数：3129\n",
            "ディレクトリ：DATA/T/　ファイル数：2981\n",
            "ディレクトリ：DATA/U/　ファイル数：3143\n",
            "ディレクトリ：DATA/V/　ファイル数：3237\n",
            "ディレクトリ：DATA/W/　ファイル数：3122\n",
            "ディレクトリ：DATA/X/　ファイル数：3203\n",
            "ディレクトリ：DATA/Y/　ファイル数：2966\n",
            "ディレクトリ：DATA/Z/　ファイル数：3165\n",
            "DATA内の合計ファイル数：81463\n"
          ],
          "name": "stdout"
        }
      ]
    },
    {
      "cell_type": "markdown",
      "metadata": {
        "id": "RqgGO4DSwYOJ",
        "colab_type": "text"
      },
      "source": [
        "DATA/A   DATA/B  に編集できたので、いらなくなった DATA/0   　DATA/1 を消す\n",
        "\n",
        "そして DATA フォルダを圧縮（zip）して、データセットとして使えるように"
      ]
    },
    {
      "cell_type": "code",
      "metadata": {
        "id": "CbjdwUktwuL9",
        "colab_type": "code",
        "colab": {}
      },
      "source": [
        "for r in dir_number:\n",
        "  shutil.rmtree(\"DATA/\"+str(r))"
      ],
      "execution_count": 0,
      "outputs": []
    },
    {
      "cell_type": "code",
      "metadata": {
        "id": "k2SrV5QExzLe",
        "colab_type": "code",
        "colab": {
          "base_uri": "https://localhost:8080/",
          "height": 34
        },
        "outputId": "1a1e473f-ab50-44fe-d341-507c3073a74a"
      },
      "source": [
        "shutil.make_archive('ABC_data', 'zip', root_dir='DATA')\n",
        "# 51MB"
      ],
      "execution_count": 29,
      "outputs": [
        {
          "output_type": "execute_result",
          "data": {
            "text/plain": [
              "'/content/ABC_data.zip'"
            ]
          },
          "metadata": {
            "tags": []
          },
          "execution_count": 29
        }
      ]
    },
    {
      "cell_type": "code",
      "metadata": {
        "id": "_D28BU3exzFY",
        "colab_type": "code",
        "colab": {}
      },
      "source": [
        "!rm -r DATA"
      ],
      "execution_count": 0,
      "outputs": []
    }
  ]
}