{
  "nbformat": 4,
  "nbformat_minor": 0,
  "metadata": {
    "colab": {
      "name": "ABC_CNN_Learning",
      "provenance": []
    },
    "kernelspec": {
      "name": "python3",
      "display_name": "Python 3"
    },
    "accelerator": "GPU"
  },
  "cells": [
    {
      "cell_type": "markdown",
      "metadata": {
        "id": "4GMZQQFCtES-",
        "colab_type": "text"
      },
      "source": [
        "### データの用意"
      ]
    },
    {
      "cell_type": "code",
      "metadata": {
        "id": "VXweUCmGmcfc",
        "colab_type": "code",
        "colab": {
          "base_uri": "https://localhost:8080/",
          "height": 152
        },
        "outputId": "3ab91a2a-bc11-4b6d-bab7-46e3f74c9f99"
      },
      "source": [
        "!git clone https://github.com/oshimamasara/ABC-Handwriting-AI-Checker-App.git"
      ],
      "execution_count": 1,
      "outputs": [
        {
          "output_type": "stream",
          "text": [
            "Cloning into 'ABC-Handwriting-AI-Checker-App'...\n",
            "remote: Enumerating objects: 4, done.\u001b[K\n",
            "remote: Counting objects: 100% (4/4), done.\u001b[K\n",
            "remote: Compressing objects: 100% (4/4), done.\u001b[K\n",
            "remote: Total 81504 (delta 0), reused 2 (delta 0), pack-reused 81500\u001b[K\n",
            "Receiving objects: 100% (81504/81504), 122.40 MiB | 33.42 MiB/s, done.\n",
            "Resolving deltas: 100% (18/18), done.\n",
            "Checking out files: 100% (81475/81475), done.\n"
          ],
          "name": "stdout"
        }
      ]
    },
    {
      "cell_type": "code",
      "metadata": {
        "id": "dQthjL31nQLw",
        "colab_type": "code",
        "colab": {
          "base_uri": "https://localhost:8080/",
          "height": 34
        },
        "outputId": "1232b311-a85f-498e-eb3f-1bf4a095427e"
      },
      "source": [
        "%cd ABC-Handwriting-AI-Checker-App/"
      ],
      "execution_count": 2,
      "outputs": [
        {
          "output_type": "stream",
          "text": [
            "/content/ABC-Handwriting-AI-Checker-App\n"
          ],
          "name": "stdout"
        }
      ]
    },
    {
      "cell_type": "code",
      "metadata": {
        "id": "c7QpJ3M0so8H",
        "colab_type": "code",
        "colab": {
          "base_uri": "https://localhost:8080/",
          "height": 51
        },
        "outputId": "b6e67342-9e0e-4946-a078-e64a67d9c927"
      },
      "source": [
        "!ls"
      ],
      "execution_count": 3,
      "outputs": [
        {
          "output_type": "stream",
          "text": [
            "ABC_data.zip  check-train.csv\tget-dataset.ipynb  train\n",
            "checkCSV      datasetCSV.ipynb\tREADME.md\t   train.csv\n"
          ],
          "name": "stdout"
        }
      ]
    },
    {
      "cell_type": "code",
      "metadata": {
        "id": "owUjjyKps3E7",
        "colab_type": "code",
        "colab": {
          "base_uri": "https://localhost:8080/",
          "height": 34
        },
        "outputId": "f7b189ad-8c9f-4a02-e635-e25ecc37d782"
      },
      "source": [
        "!find train -type f | wc -l"
      ],
      "execution_count": 4,
      "outputs": [
        {
          "output_type": "stream",
          "text": [
            "81463\n"
          ],
          "name": "stdout"
        }
      ]
    },
    {
      "cell_type": "code",
      "metadata": {
        "id": "RWdPe-kfs7A7",
        "colab_type": "code",
        "colab": {
          "base_uri": "https://localhost:8080/",
          "height": 34
        },
        "outputId": "ebdc5499-7c61-4968-f2f8-95f02c22f81a"
      },
      "source": [
        "file = open(\"train.csv\")\n",
        "numline = len(file.readlines())\n",
        "print (numline)"
      ],
      "execution_count": 5,
      "outputs": [
        {
          "output_type": "stream",
          "text": [
            "81463\n"
          ],
          "name": "stdout"
        }
      ]
    },
    {
      "cell_type": "code",
      "metadata": {
        "id": "yOmHl_-XtUYv",
        "colab_type": "code",
        "colab": {
          "base_uri": "https://localhost:8080/",
          "height": 101
        },
        "outputId": "24e72535-cb88-45a5-f096-7684a41f1d8b"
      },
      "source": [
        "!ls train | head -5"
      ],
      "execution_count": 6,
      "outputs": [
        {
          "output_type": "stream",
          "text": [
            "41_00000_0.png\n",
            "41_00000_1.png\n",
            "41_00000_2.png\n",
            "41_00000_3.png\n",
            "41_00000_4.png\n"
          ],
          "name": "stdout"
        }
      ]
    },
    {
      "cell_type": "code",
      "metadata": {
        "id": "vAVmBhszti4t",
        "colab_type": "code",
        "colab": {
          "base_uri": "https://localhost:8080/",
          "height": 101
        },
        "outputId": "a452f388-3ddb-45d7-c31e-d26203c1c33d"
      },
      "source": [
        "!sed -n 1,5p train.csv"
      ],
      "execution_count": 7,
      "outputs": [
        {
          "output_type": "stream",
          "text": [
            "41_00000_0,0\r\n",
            "41_00000_1,0\r\n",
            "41_00000_2,0\r\n",
            "41_00000_3,0\r\n",
            "41_00000_4,0\r\n"
          ],
          "name": "stdout"
        }
      ]
    },
    {
      "cell_type": "markdown",
      "metadata": {
        "id": "fEDEmtoL0_TX",
        "colab_type": "text"
      },
      "source": [
        "### csv データ　シャッフル"
      ]
    },
    {
      "cell_type": "code",
      "metadata": {
        "id": "tAWCbRSR09FD",
        "colab_type": "code",
        "colab": {}
      },
      "source": [
        ""
      ],
      "execution_count": 0,
      "outputs": []
    },
    {
      "cell_type": "code",
      "metadata": {
        "id": "Wj57P9Y0tm-V",
        "colab_type": "code",
        "colab": {
          "base_uri": "https://localhost:8080/",
          "height": 286
        },
        "outputId": "d763f63e-f720-4f89-c36b-0cfccbd0e935"
      },
      "source": [
        "from PIL import Image\n",
        "import matplotlib.pyplot as plt\n",
        "import numpy as np\n",
        "%matplotlib inline\n",
        "\n",
        "\n",
        "A  = \"train/41_00000_4.png\"\n",
        "img = Image.open(A)\n",
        "plt.imshow(img)"
      ],
      "execution_count": 8,
      "outputs": [
        {
          "output_type": "execute_result",
          "data": {
            "text/plain": [
              "<matplotlib.image.AxesImage at 0x7ff6c773c470>"
            ]
          },
          "metadata": {
            "tags": []
          },
          "execution_count": 8
        },
        {
          "output_type": "display_data",
          "data": {
            "image/png": "[encoded data removed]",
            "text/plain": [
              "<Figure size 432x288 with 1 Axes>"
            ]
          },
          "metadata": {
            "tags": []
          }
        }
      ]
    },
    {
      "cell_type": "markdown",
      "metadata": {
        "id": "HUK1pnsHs--k",
        "colab_type": "text"
      },
      "source": [
        "### ラーニングセット"
      ]
    },
    {
      "cell_type": "code",
      "metadata": {
        "id": "k846l2Oyt2Mu",
        "colab_type": "code",
        "colab": {
          "base_uri": "https://localhost:8080/",
          "height": 34
        },
        "outputId": "34794f27-4370-4eb5-bbf7-b5129b591910"
      },
      "source": [
        "import keras\n",
        "from keras.models import Sequential\n",
        "from keras.layers import Dense, Dropout, Flatten\n",
        "from keras.layers import Conv2D, MaxPooling2D\n",
        "from keras.utils import to_categorical\n",
        "from keras.preprocessing import image\n",
        "import numpy as np\n",
        "import pandas as pd\n",
        "import matplotlib.pyplot as plt\n",
        "from sklearn.model_selection import train_test_split\n",
        "from keras.utils import to_categorical\n",
        "from tqdm import tqdm"
      ],
      "execution_count": 9,
      "outputs": [
        {
          "output_type": "stream",
          "text": [
            "Using TensorFlow backend.\n"
          ],
          "name": "stderr"
        }
      ]
    },
    {
      "cell_type": "code",
      "metadata": {
        "id": "eoq1hwast9f3",
        "colab_type": "code",
        "colab": {}
      },
      "source": [
        "col_Names=[\"id\", \"label\"]\n",
        "train = pd.read_csv(\"train.csv\",names=col_Names)"
      ],
      "execution_count": 0,
      "outputs": []
    },
    {
      "cell_type": "code",
      "metadata": {
        "id": "7RqMNZ1fuS2O",
        "colab_type": "code",
        "colab": {
          "base_uri": "https://localhost:8080/",
          "height": 202
        },
        "outputId": "9845bc75-37cf-4d45-806d-b739b19995ee"
      },
      "source": [
        "train[0:5]"
      ],
      "execution_count": 11,
      "outputs": [
        {
          "output_type": "execute_result",
          "data": {
            "text/html": [
              "<div>\n",
              "<style scoped>\n",
              "    .dataframe tbody tr th:only-of-type {\n",
              "        vertical-align: middle;\n",
              "    }\n",
              "\n",
              "    .dataframe tbody tr th {\n",
              "        vertical-align: top;\n",
              "    }\n",
              "\n",
              "    .dataframe thead th {\n",
              "        text-align: right;\n",
              "    }\n",
              "</style>\n",
              "<table border=\"1\" class=\"dataframe\">\n",
              "  <thead>\n",
              "    <tr style=\"text-align: right;\">\n",
              "      <th></th>\n",
              "      <th>id</th>\n",
              "      <th>label</th>\n",
              "    </tr>\n",
              "  </thead>\n",
              "  <tbody>\n",
              "    <tr>\n",
              "      <th>0</th>\n",
              "      <td>41_00000_0</td>\n",
              "      <td>0</td>\n",
              "    </tr>\n",
              "    <tr>\n",
              "      <th>1</th>\n",
              "      <td>41_00000_1</td>\n",
              "      <td>0</td>\n",
              "    </tr>\n",
              "    <tr>\n",
              "      <th>2</th>\n",
              "      <td>41_00000_2</td>\n",
              "      <td>0</td>\n",
              "    </tr>\n",
              "    <tr>\n",
              "      <th>3</th>\n",
              "      <td>41_00000_3</td>\n",
              "      <td>0</td>\n",
              "    </tr>\n",
              "    <tr>\n",
              "      <th>4</th>\n",
              "      <td>41_00000_4</td>\n",
              "      <td>0</td>\n",
              "    </tr>\n",
              "  </tbody>\n",
              "</table>\n",
              "</div>"
            ],
            "text/plain": [
              "           id  label\n",
              "0  41_00000_0      0\n",
              "1  41_00000_1      0\n",
              "2  41_00000_2      0\n",
              "3  41_00000_3      0\n",
              "4  41_00000_4      0"
            ]
          },
          "metadata": {
            "tags": []
          },
          "execution_count": 11
        }
      ]
    },
    {
      "cell_type": "code",
      "metadata": {
        "id": "B5riQH6KuVqE",
        "colab_type": "code",
        "colab": {
          "base_uri": "https://localhost:8080/",
          "height": 34
        },
        "outputId": "059698ac-8910-4f91-f45b-7cd1296fa515"
      },
      "source": [
        "train.shape"
      ],
      "execution_count": 12,
      "outputs": [
        {
          "output_type": "execute_result",
          "data": {
            "text/plain": [
              "(81463, 2)"
            ]
          },
          "metadata": {
            "tags": []
          },
          "execution_count": 12
        }
      ]
    },
    {
      "cell_type": "code",
      "metadata": {
        "id": "NDV9-gOFuYSP",
        "colab_type": "code",
        "colab": {
          "base_uri": "https://localhost:8080/",
          "height": 88
        },
        "outputId": "9f8a8d2e-3807-48ce-9f72-f24200b75b2d"
      },
      "source": [
        "train_image = []\n",
        "for i in tqdm(range(train.shape[0])):\n",
        "    img = image.load_img('train/'+train['id'][i]+'.png', target_size=(28,28,1), grayscale=True)\n",
        "    img = image.img_to_array(img)\n",
        "    img = img/255\n",
        "    train_image.append(img)\n",
        "X = np.array(train_image)"
      ],
      "execution_count": 13,
      "outputs": [
        {
          "output_type": "stream",
          "text": [
            "  0%|          | 0/81463 [00:00<?, ?it/s]/usr/local/lib/python3.6/dist-packages/keras_preprocessing/image/utils.py:104: UserWarning: grayscale is deprecated. Please use color_mode = \"grayscale\"\n",
            "  warnings.warn('grayscale is deprecated. Please use '\n",
            "100%|██████████| 81463/81463 [00:44<00:00, 1834.64it/s]\n"
          ],
          "name": "stderr"
        }
      ]
    },
    {
      "cell_type": "code",
      "metadata": {
        "id": "jzknAh8YunEp",
        "colab_type": "code",
        "colab": {}
      },
      "source": [
        "y=train['label'].values\n",
        "y = to_categorical(y)"
      ],
      "execution_count": 0,
      "outputs": []
    },
    {
      "cell_type": "code",
      "metadata": {
        "id": "lGNx3iXYupMC",
        "colab_type": "code",
        "colab": {}
      },
      "source": [
        "X_train, X_test, y_train, y_test = train_test_split(X, y, random_state=42, test_size=0.2)"
      ],
      "execution_count": 0,
      "outputs": []
    },
    {
      "cell_type": "code",
      "metadata": {
        "id": "wmow8np60ZZQ",
        "colab_type": "code",
        "colab": {
          "base_uri": "https://localhost:8080/",
          "height": 85
        },
        "outputId": "c2690853-8c6e-4e78-d4eb-b3176868e1bc"
      },
      "source": [
        "print(len(X_train))\n",
        "print(len(X_test))\n",
        "print(len(y_train))\n",
        "print(len(y_test))"
      ],
      "execution_count": 16,
      "outputs": [
        {
          "output_type": "stream",
          "text": [
            "65170\n",
            "16293\n",
            "65170\n",
            "16293\n"
          ],
          "name": "stdout"
        }
      ]
    },
    {
      "cell_type": "code",
      "metadata": {
        "id": "hakt3wOPusXn",
        "colab_type": "code",
        "colab": {
          "base_uri": "https://localhost:8080/",
          "height": 257
        },
        "outputId": "4f36e866-4b60-47be-fb72-99f0cbf2283b"
      },
      "source": [
        "model = Sequential()\n",
        "model.add(Conv2D(32, kernel_size=(3, 3),activation='relu',input_shape=(28,28,1)))\n",
        "model.add(Conv2D(64, (3, 3), activation='relu'))\n",
        "model.add(MaxPooling2D(pool_size=(2, 2)))\n",
        "model.add(Dropout(0.25))\n",
        "model.add(Flatten())\n",
        "model.add(Dense(128, activation='relu'))\n",
        "model.add(Dropout(0.5))\n",
        "model.add(Dense(26, activation='softmax'))"
      ],
      "execution_count": 17,
      "outputs": [
        {
          "output_type": "stream",
          "text": [
            "WARNING:tensorflow:From /usr/local/lib/python3.6/dist-packages/keras/backend/tensorflow_backend.py:66: The name tf.get_default_graph is deprecated. Please use tf.compat.v1.get_default_graph instead.\n",
            "\n",
            "WARNING:tensorflow:From /usr/local/lib/python3.6/dist-packages/keras/backend/tensorflow_backend.py:541: The name tf.placeholder is deprecated. Please use tf.compat.v1.placeholder instead.\n",
            "\n",
            "WARNING:tensorflow:From /usr/local/lib/python3.6/dist-packages/keras/backend/tensorflow_backend.py:4432: The name tf.random_uniform is deprecated. Please use tf.random.uniform instead.\n",
            "\n",
            "WARNING:tensorflow:From /usr/local/lib/python3.6/dist-packages/keras/backend/tensorflow_backend.py:4267: The name tf.nn.max_pool is deprecated. Please use tf.nn.max_pool2d instead.\n",
            "\n",
            "WARNING:tensorflow:From /usr/local/lib/python3.6/dist-packages/keras/backend/tensorflow_backend.py:148: The name tf.placeholder_with_default is deprecated. Please use tf.compat.v1.placeholder_with_default instead.\n",
            "\n",
            "WARNING:tensorflow:From /usr/local/lib/python3.6/dist-packages/keras/backend/tensorflow_backend.py:3733: calling dropout (from tensorflow.python.ops.nn_ops) with keep_prob is deprecated and will be removed in a future version.\n",
            "Instructions for updating:\n",
            "Please use `rate` instead of `keep_prob`. Rate should be set to `rate = 1 - keep_prob`.\n"
          ],
          "name": "stdout"
        }
      ]
    },
    {
      "cell_type": "code",
      "metadata": {
        "id": "RuEjU6rxutAK",
        "colab_type": "code",
        "colab": {
          "base_uri": "https://localhost:8080/",
          "height": 105
        },
        "outputId": "8fffd0fa-9c3c-4045-a9c5-46337c3b844e"
      },
      "source": [
        "model.compile(loss='categorical_crossentropy',optimizer='Adam',metrics=['accuracy'])"
      ],
      "execution_count": 18,
      "outputs": [
        {
          "output_type": "stream",
          "text": [
            "WARNING:tensorflow:From /usr/local/lib/python3.6/dist-packages/keras/optimizers.py:793: The name tf.train.Optimizer is deprecated. Please use tf.compat.v1.train.Optimizer instead.\n",
            "\n",
            "WARNING:tensorflow:From /usr/local/lib/python3.6/dist-packages/keras/backend/tensorflow_backend.py:3576: The name tf.log is deprecated. Please use tf.math.log instead.\n",
            "\n"
          ],
          "name": "stdout"
        }
      ]
    },
    {
      "cell_type": "code",
      "metadata": {
        "id": "H3sdwalTu2Go",
        "colab_type": "code",
        "colab": {
          "base_uri": "https://localhost:8080/",
          "height": 1000
        },
        "outputId": "bd1a1ab3-0f75-48d2-eb28-0b71c5ed9856"
      },
      "source": [
        "fit = model.fit(X_train, y_train, epochs=20, validation_data=(X_test, y_test))"
      ],
      "execution_count": 19,
      "outputs": [
        {
          "output_type": "stream",
          "text": [
            "WARNING:tensorflow:From /usr/local/lib/python3.6/dist-packages/tensorflow_core/python/ops/math_grad.py:1424: where (from tensorflow.python.ops.array_ops) is deprecated and will be removed in a future version.\n",
            "Instructions for updating:\n",
            "Use tf.where in 2.0, which has the same broadcast rule as np.where\n",
            "WARNING:tensorflow:From /usr/local/lib/python3.6/dist-packages/keras/backend/tensorflow_backend.py:1033: The name tf.assign_add is deprecated. Please use tf.compat.v1.assign_add instead.\n",
            "\n",
            "WARNING:tensorflow:From /usr/local/lib/python3.6/dist-packages/keras/backend/tensorflow_backend.py:1020: The name tf.assign is deprecated. Please use tf.compat.v1.assign instead.\n",
            "\n",
            "WARNING:tensorflow:From /usr/local/lib/python3.6/dist-packages/keras/backend/tensorflow_backend.py:3005: The name tf.Session is deprecated. Please use tf.compat.v1.Session instead.\n",
            "\n",
            "Train on 65170 samples, validate on 16293 samples\n",
            "Epoch 1/20\n",
            "WARNING:tensorflow:From /usr/local/lib/python3.6/dist-packages/keras/backend/tensorflow_backend.py:190: The name tf.get_default_session is deprecated. Please use tf.compat.v1.get_default_session instead.\n",
            "\n",
            "WARNING:tensorflow:From /usr/local/lib/python3.6/dist-packages/keras/backend/tensorflow_backend.py:197: The name tf.ConfigProto is deprecated. Please use tf.compat.v1.ConfigProto instead.\n",
            "\n",
            "WARNING:tensorflow:From /usr/local/lib/python3.6/dist-packages/keras/backend/tensorflow_backend.py:207: The name tf.global_variables is deprecated. Please use tf.compat.v1.global_variables instead.\n",
            "\n",
            "WARNING:tensorflow:From /usr/local/lib/python3.6/dist-packages/keras/backend/tensorflow_backend.py:216: The name tf.is_variable_initialized is deprecated. Please use tf.compat.v1.is_variable_initialized instead.\n",
            "\n",
            "WARNING:tensorflow:From /usr/local/lib/python3.6/dist-packages/keras/backend/tensorflow_backend.py:223: The name tf.variables_initializer is deprecated. Please use tf.compat.v1.variables_initializer instead.\n",
            "\n",
            "65170/65170 [==============================] - 32s 489us/step - loss: 0.9525 - acc: 0.7151 - val_loss: 0.2979 - val_acc: 0.9155\n",
            "Epoch 2/20\n",
            "65170/65170 [==============================] - 24s 368us/step - loss: 0.4574 - acc: 0.8628 - val_loss: 0.2390 - val_acc: 0.9322\n",
            "Epoch 3/20\n",
            "65170/65170 [==============================] - 23s 359us/step - loss: 0.3785 - acc: 0.8879 - val_loss: 0.2058 - val_acc: 0.9406\n",
            "Epoch 4/20\n",
            "65170/65170 [==============================] - 24s 365us/step - loss: 0.3272 - acc: 0.9030 - val_loss: 0.1938 - val_acc: 0.9456\n",
            "Epoch 5/20\n",
            "65170/65170 [==============================] - 24s 363us/step - loss: 0.2950 - acc: 0.9114 - val_loss: 0.1824 - val_acc: 0.9485\n",
            "Epoch 6/20\n",
            "65170/65170 [==============================] - 24s 369us/step - loss: 0.2738 - acc: 0.9170 - val_loss: 0.1804 - val_acc: 0.9472\n",
            "Epoch 7/20\n",
            "65170/65170 [==============================] - 24s 363us/step - loss: 0.2580 - acc: 0.9230 - val_loss: 0.1730 - val_acc: 0.9515\n",
            "Epoch 8/20\n",
            "65170/65170 [==============================] - 24s 362us/step - loss: 0.2433 - acc: 0.9262 - val_loss: 0.1689 - val_acc: 0.9531\n",
            "Epoch 9/20\n",
            "65170/65170 [==============================] - 24s 364us/step - loss: 0.2281 - acc: 0.9304 - val_loss: 0.1681 - val_acc: 0.9539\n",
            "Epoch 10/20\n",
            "65170/65170 [==============================] - 24s 368us/step - loss: 0.2187 - acc: 0.9322 - val_loss: 0.1695 - val_acc: 0.9540\n",
            "Epoch 11/20\n",
            "65170/65170 [==============================] - 24s 371us/step - loss: 0.2117 - acc: 0.9346 - val_loss: 0.1719 - val_acc: 0.9532\n",
            "Epoch 12/20\n",
            "65170/65170 [==============================] - 24s 371us/step - loss: 0.2041 - acc: 0.9370 - val_loss: 0.1689 - val_acc: 0.9529\n",
            "Epoch 13/20\n",
            "65170/65170 [==============================] - 24s 366us/step - loss: 0.1972 - acc: 0.9399 - val_loss: 0.1655 - val_acc: 0.9545\n",
            "Epoch 14/20\n",
            "65170/65170 [==============================] - 24s 368us/step - loss: 0.1920 - acc: 0.9397 - val_loss: 0.1689 - val_acc: 0.9543\n",
            "Epoch 15/20\n",
            "65170/65170 [==============================] - 24s 364us/step - loss: 0.1873 - acc: 0.9407 - val_loss: 0.1693 - val_acc: 0.9550\n",
            "Epoch 16/20\n",
            "65170/65170 [==============================] - 24s 368us/step - loss: 0.1818 - acc: 0.9428 - val_loss: 0.1686 - val_acc: 0.9567\n",
            "Epoch 17/20\n",
            "65170/65170 [==============================] - 24s 371us/step - loss: 0.1781 - acc: 0.9447 - val_loss: 0.1720 - val_acc: 0.9554\n",
            "Epoch 18/20\n",
            "65170/65170 [==============================] - 24s 368us/step - loss: 0.1757 - acc: 0.9443 - val_loss: 0.1696 - val_acc: 0.9556\n",
            "Epoch 19/20\n",
            "65170/65170 [==============================] - 24s 370us/step - loss: 0.1686 - acc: 0.9460 - val_loss: 0.1709 - val_acc: 0.9570\n",
            "Epoch 20/20\n",
            "65170/65170 [==============================] - 23s 360us/step - loss: 0.1667 - acc: 0.9470 - val_loss: 0.1772 - val_acc: 0.9566\n"
          ],
          "name": "stdout"
        }
      ]
    },
    {
      "cell_type": "markdown",
      "metadata": {
        "id": "qXbmyQPrKhsJ",
        "colab_type": "text"
      },
      "source": [
        "### ラーニング結果の検証"
      ]
    },
    {
      "cell_type": "code",
      "metadata": {
        "id": "EmeyP8ZNCIcX",
        "colab_type": "code",
        "colab": {
          "base_uri": "https://localhost:8080/",
          "height": 51
        },
        "outputId": "bf536612-7bcd-4e3e-f2bd-89ff7dca2953"
      },
      "source": [
        "score = model.evaluate(X_test, y_test, verbose=0)\n",
        "print(\"ロス　\" + str(score[0]))\n",
        "print(\"精度　\" + str(score[1]))"
      ],
      "execution_count": 20,
      "outputs": [
        {
          "output_type": "stream",
          "text": [
            "ロス　0.17722893858043143\n",
            "精度　0.9566071318971338\n"
          ],
          "name": "stdout"
        }
      ]
    },
    {
      "cell_type": "code",
      "metadata": {
        "id": "SH5bAIg-AdUs",
        "colab_type": "code",
        "colab": {}
      },
      "source": [
        "model.save('ABCmodel.h5') "
      ],
      "execution_count": 0,
      "outputs": []
    },
    {
      "cell_type": "code",
      "metadata": {
        "id": "NYVMax8fICbp",
        "colab_type": "code",
        "colab": {
          "base_uri": "https://localhost:8080/",
          "height": 1000
        },
        "outputId": "2dac6aac-9d75-43a8-bd80-b36e00fccf65"
      },
      "source": [
        "fit.history"
      ],
      "execution_count": 22,
      "outputs": [
        {
          "output_type": "execute_result",
          "data": {
            "text/plain": [
              "{'acc': [0.7151296608795943,\n",
              "  0.8627742826380722,\n",
              "  0.8878778579100813,\n",
              "  0.9029768298223594,\n",
              "  0.9114162958453034,\n",
              "  0.9170016878932024,\n",
              "  0.9230013810053584,\n",
              "  0.9261776891134442,\n",
              "  0.9304281110940616,\n",
              "  0.9322234156820624,\n",
              "  0.9346324996090711,\n",
              "  0.9369648611324229,\n",
              "  0.939880313021979,\n",
              "  0.9396808347417402,\n",
              "  0.9406628816976894,\n",
              "  0.9428111094061685,\n",
              "  0.9447138253816052,\n",
              "  0.9443455577646641,\n",
              "  0.9460181064907166,\n",
              "  0.9470461868884942],\n",
              " 'loss': [0.9525473954012849,\n",
              "  0.4573798496682567,\n",
              "  0.3785082517362398,\n",
              "  0.32717323181854907,\n",
              "  0.2950023339504257,\n",
              "  0.27376151091050605,\n",
              "  0.25804728352531475,\n",
              "  0.24329509778070874,\n",
              "  0.2281408012443769,\n",
              "  0.2186750145124588,\n",
              "  0.2117101041162528,\n",
              "  0.20409653925339613,\n",
              "  0.19717447940767205,\n",
              "  0.19202969178491086,\n",
              "  0.18727513778213345,\n",
              "  0.18180505954208176,\n",
              "  0.17809420413760224,\n",
              "  0.17567962375803192,\n",
              "  0.16864308608395476,\n",
              "  0.16666086240516806],\n",
              " 'val_acc': [0.9154851776836679,\n",
              "  0.9321794635733137,\n",
              "  0.9405879825692015,\n",
              "  0.9456208187565212,\n",
              "  0.9485054931565703,\n",
              "  0.9472165960842079,\n",
              "  0.9515129196587492,\n",
              "  0.9531086969864359,\n",
              "  0.9539065856502793,\n",
              "  0.9540293377524091,\n",
              "  0.9531700730375008,\n",
              "  0.9528631927821763,\n",
              "  0.954520346160928,\n",
              "  0.9542748419566686,\n",
              "  0.955011354569447,\n",
              "  0.9567298839992635,\n",
              "  0.9554409869269012,\n",
              "  0.9555637390290309,\n",
              "  0.9570367642545878,\n",
              "  0.9566071318971338],\n",
              " 'val_loss': [0.2978727247664073,\n",
              "  0.2390358874398591,\n",
              "  0.2058344329365788,\n",
              "  0.19380138720979803,\n",
              "  0.18241560305682805,\n",
              "  0.18043855392757477,\n",
              "  0.17303039319418842,\n",
              "  0.16894744062155576,\n",
              "  0.1681162170490883,\n",
              "  0.16948778681001297,\n",
              "  0.17188967085300363,\n",
              "  0.1689019264635148,\n",
              "  0.16553548456246317,\n",
              "  0.16890216301054595,\n",
              "  0.16930917475909665,\n",
              "  0.16859925730062003,\n",
              "  0.1720251427328933,\n",
              "  0.1695667533356436,\n",
              "  0.17089718539120133,\n",
              "  0.17722893858043143]}"
            ]
          },
          "metadata": {
            "tags": []
          },
          "execution_count": 22
        }
      ]
    },
    {
      "cell_type": "code",
      "metadata": {
        "id": "xwzUfy60HdrD",
        "colab_type": "code",
        "colab": {
          "base_uri": "https://localhost:8080/",
          "height": 295
        },
        "outputId": "57e6b7df-0328-4033-f16d-7cf22190a0f7"
      },
      "source": [
        "fig, (axL, axR) = plt.subplots(ncols=2, figsize=(10,4))\n",
        "def plot_history_loss(hist):\n",
        "    # Plot the loss in the history\n",
        "    axL.plot(fit.history['loss'],label=\"loss for training\")\n",
        "    axL.plot(fit.history['val_loss'],label=\"loss for validation\")\n",
        "    axL.set_title('model loss')\n",
        "    axL.set_xlabel('epoch')\n",
        "    axL.set_ylabel('loss')\n",
        "    axL.legend(loc='upper right')\n",
        "\n",
        "# acc\n",
        "def plot_history_acc(hist):\n",
        "    # Plot the loss in the history\n",
        "    axR.plot(fit.history['acc'],label=\"loss for training\")\n",
        "    axR.plot(fit.history['val_acc'],label=\"loss for validation\")\n",
        "    axR.set_title('model accuracy')\n",
        "    axR.set_xlabel('epoch')\n",
        "    axR.set_ylabel('accuracy')\n",
        "    axR.legend(loc='upper right')\n",
        "\n",
        "plot_history_loss(fit)\n",
        "plot_history_acc(fit)"
      ],
      "execution_count": 24,
      "outputs": [
        {
          "output_type": "display_data",
          "data": {
            "image/png": "[encoded data removed]",
            "text/plain": [
              "<Figure size 720x288 with 2 Axes>"
            ]
          },
          "metadata": {
            "tags": []
          }
        }
      ]
    },
    {
      "cell_type": "code",
      "metadata": {
        "id": "4rEI9Yt4fLyc",
        "colab_type": "code",
        "colab": {}
      },
      "source": [
        ""
      ],
      "execution_count": 0,
      "outputs": []
    },
    {
      "cell_type": "markdown",
      "metadata": {
        "id": "-00d2eXBKc6i",
        "colab_type": "text"
      },
      "source": [
        "### 自分の画像でテスト"
      ]
    },
    {
      "cell_type": "code",
      "metadata": {
        "id": "25HRWYlsaMSn",
        "colab_type": "code",
        "colab": {
          "base_uri": "https://localhost:8080/",
          "height": 121
        },
        "outputId": "6104f080-25d3-461f-93fc-799467c1e8da"
      },
      "source": [
        "from keras.models import load_model\n",
        "from keras.preprocessing.image import img_to_array, load_img\n",
        "test_model = load_model('ABCmodel.h5')\n",
        "img = load_img('test_img/Y.png',target_size=(28,28,1), grayscale=True)\n",
        "x = img_to_array(img)\n",
        "x = np.expand_dims(x, axis=0)\n",
        "preds = test_model.predict_classes(x)\n",
        "prob = test_model.predict_proba(x)\n",
        "print(preds)\n",
        "print(prob)"
      ],
      "execution_count": 30,
      "outputs": [
        {
          "output_type": "stream",
          "text": [
            "/usr/local/lib/python3.6/dist-packages/keras_preprocessing/image/utils.py:104: UserWarning: grayscale is deprecated. Please use color_mode = \"grayscale\"\n",
            "  warnings.warn('grayscale is deprecated. Please use '\n"
          ],
          "name": "stderr"
        },
        {
          "output_type": "stream",
          "text": [
            "[24]\n",
            "[[0. 0. 0. 0. 0. 0. 0. 0. 0. 0. 0. 0. 0. 0. 0. 0. 0. 0. 0. 0. 0. 0. 0. 0.\n",
            "  1. 0.]]\n"
          ],
          "name": "stdout"
        }
      ]
    },
    {
      "cell_type": "markdown",
      "metadata": {
        "id": "2tnFqKudfZ-D",
        "colab_type": "text"
      },
      "source": [
        "### h5 -> tflite Convert"
      ]
    },
    {
      "cell_type": "code",
      "metadata": {
        "id": "aNpnRk_Zfdni",
        "colab_type": "code",
        "colab": {
          "base_uri": "https://localhost:8080/",
          "height": 240
        },
        "outputId": "a3ea7f76-bd25-43de-daea-38ec3af51b2b"
      },
      "source": [
        "import tensorflow as tf\n",
        "converter = tf.lite.TFLiteConverter.from_keras_model_file('ABCmodel.h5')\n",
        "tflite_model = converter.convert()\n",
        "open('ABC.tflite', 'wb').write(tflite_model)"
      ],
      "execution_count": 32,
      "outputs": [
        {
          "output_type": "stream",
          "text": [
            "WARNING:tensorflow:From /usr/local/lib/python3.6/dist-packages/tensorflow_core/python/ops/resource_variable_ops.py:1630: calling BaseResourceVariable.__init__ (from tensorflow.python.ops.resource_variable_ops) with constraint is deprecated and will be removed in a future version.\n",
            "Instructions for updating:\n",
            "If using Keras pass *_constraint arguments to layers.\n",
            "WARNING:tensorflow:From /usr/local/lib/python3.6/dist-packages/tensorflow_core/lite/python/util.py:249: convert_variables_to_constants (from tensorflow.python.framework.graph_util_impl) is deprecated and will be removed in a future version.\n",
            "Instructions for updating:\n",
            "Use `tf.compat.v1.graph_util.convert_variables_to_constants`\n",
            "WARNING:tensorflow:From /usr/local/lib/python3.6/dist-packages/tensorflow_core/python/framework/graph_util_impl.py:277: extract_sub_graph (from tensorflow.python.framework.graph_util_impl) is deprecated and will be removed in a future version.\n",
            "Instructions for updating:\n",
            "Use `tf.compat.v1.graph_util.extract_sub_graph`\n",
            "INFO:tensorflow:Froze 8 variables.\n",
            "INFO:tensorflow:Converted 8 variables to const ops.\n"
          ],
          "name": "stdout"
        },
        {
          "output_type": "execute_result",
          "data": {
            "text/plain": [
              "4809820"
            ]
          },
          "metadata": {
            "tags": []
          },
          "execution_count": 32
        }
      ]
    }
  ]
}